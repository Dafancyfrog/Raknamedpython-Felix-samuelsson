{
 "metadata": {
  "language_info": {
   "codemirror_mode": {
    "name": "ipython",
    "version": 3
   },
   "file_extension": ".py",
   "mimetype": "text/x-python",
   "name": "python",
   "nbconvert_exporter": "python",
   "pygments_lexer": "ipython3",
   "version": "3.8.3-final"
  },
  "orig_nbformat": 2,
  "kernelspec": {
   "name": "python3",
   "display_name": "Python 3"
  }
 },
 "nbformat": 4,
 "nbformat_minor": 2,
 "cells": [
  {
   "cell_type": "code",
   "execution_count": 4,
   "metadata": {},
   "outputs": [
    {
     "output_type": "error",
     "ename": "TypeError",
     "evalue": "unsupported operand type(s) for /: 'tuple' and 'int'",
     "traceback": [
      "\u001b[1;31m---------------------------------------------------------------------------\u001b[0m",
      "\u001b[1;31mTypeError\u001b[0m                                 Traceback (most recent call last)",
      "\u001b[1;32m<ipython-input-4-8d14096fd357>\u001b[0m in \u001b[0;36m<module>\u001b[1;34m\u001b[0m\n\u001b[0;32m      6\u001b[0m \u001b[1;33m\u001b[0m\u001b[0m\n\u001b[0;32m      7\u001b[0m \u001b[1;33m\u001b[0m\u001b[0m\n\u001b[1;32m----> 8\u001b[1;33m \u001b[0mprint\u001b[0m\u001b[1;33m(\u001b[0m\u001b[0mmedelvärde\u001b[0m\u001b[1;33m(\u001b[0m\u001b[1;36m1\u001b[0m\u001b[1;33m,\u001b[0m\u001b[1;36m2\u001b[0m\u001b[1;33m,\u001b[0m\u001b[1;36m3\u001b[0m\u001b[1;33m,\u001b[0m\u001b[1;36m4\u001b[0m\u001b[1;33m)\u001b[0m\u001b[1;33m)\u001b[0m\u001b[1;33m\u001b[0m\u001b[1;33m\u001b[0m\u001b[0m\n\u001b[0m",
      "\u001b[1;32m<ipython-input-4-8d14096fd357>\u001b[0m in \u001b[0;36mmedelvärde\u001b[1;34m(a, b, c, d)\u001b[0m\n\u001b[0;32m      1\u001b[0m \u001b[1;32mdef\u001b[0m \u001b[0mmedelvärde\u001b[0m \u001b[1;33m(\u001b[0m\u001b[0ma\u001b[0m\u001b[1;33m,\u001b[0m\u001b[0mb\u001b[0m\u001b[1;33m,\u001b[0m\u001b[0mc\u001b[0m\u001b[1;33m,\u001b[0m\u001b[0md\u001b[0m\u001b[1;33m)\u001b[0m\u001b[1;33m:\u001b[0m\u001b[1;33m\u001b[0m\u001b[1;33m\u001b[0m\u001b[0m\n\u001b[1;32m----> 2\u001b[1;33m     \u001b[0mmedel\u001b[0m \u001b[1;33m=\u001b[0m \u001b[1;33m(\u001b[0m\u001b[0ma\u001b[0m\u001b[1;33m,\u001b[0m\u001b[0mb\u001b[0m\u001b[1;33m,\u001b[0m\u001b[0mc\u001b[0m\u001b[1;33m,\u001b[0m\u001b[0md\u001b[0m\u001b[1;33m)\u001b[0m\u001b[1;33m/\u001b[0m\u001b[1;36m4\u001b[0m\u001b[1;33m\u001b[0m\u001b[1;33m\u001b[0m\u001b[0m\n\u001b[0m\u001b[0;32m      3\u001b[0m     \u001b[1;32mreturn\u001b[0m \u001b[0mmedel\u001b[0m\u001b[1;33m\u001b[0m\u001b[1;33m\u001b[0m\u001b[0m\n\u001b[0;32m      4\u001b[0m \u001b[1;33m\u001b[0m\u001b[0m\n\u001b[0;32m      5\u001b[0m \u001b[1;33m\u001b[0m\u001b[0m\n",
      "\u001b[1;31mTypeError\u001b[0m: unsupported operand type(s) for /: 'tuple' and 'int'"
     ]
    }
   ],
   "source": [
    "def medelvärde (a,b,c,d):\n",
    "    medel = (a,b,c,d)/4\n",
    "    return medel\n",
    "\n",
    "\n",
    "print(medelvärde(1,2,3,4))"
   ]
  },
  {
   "cell_type": "code",
   "execution_count": 5,
   "metadata": {},
   "outputs": [
    {
     "output_type": "stream",
     "name": "stdout",
     "text": [
      "antal ord i citatet 7\n"
     ]
    }
   ],
   "source": [
    "\n",
    "def räkna_ord (text):\n",
    "    ord = text.split()\n",
    "    antal_ord = len(ord)\n",
    "    return antal_ord\n",
    "\n",
    "\n",
    "citat = \"I stand on the shoulders of giants\"\n",
    "print(f\"antal ord i citatet {räkna_ord(citat)}\")"
   ]
  },
  {
   "cell_type": "code",
   "execution_count": 1,
   "metadata": {},
   "outputs": [
    {
     "output_type": "stream",
     "name": "stdout",
     "text": [
      "Te19C\n"
     ]
    }
   ],
   "source": [
    "def skrivut(text):\n",
    "    print(text)\n",
    "\n",
    "\n",
    "skrivut(\"Te19C\")\n"
   ]
  },
  {
   "cell_type": "code",
   "execution_count": 6,
   "metadata": {},
   "outputs": [
    {
     "output_type": "stream",
     "name": "stdout",
     "text": [
      "1\n"
     ]
    }
   ],
   "source": [
    "def minsta(tal1,tal2):\n",
    "    if tal1 < tal2:\n",
    "        return tal1\n",
    "    else:\n",
    "        return tal2\n",
    "\n",
    "\n",
    "\n",
    "\n",
    "print(minsta(1,1000))"
   ]
  },
  {
   "source": [
    "# uppgift 1 C"
   ],
   "cell_type": "markdown",
   "metadata": {}
  },
  {
   "cell_type": "code",
   "execution_count": 25,
   "metadata": {},
   "outputs": [
    {
     "output_type": "stream",
     "name": "stdout",
     "text": [
      "25.0\n"
     ]
    }
   ],
   "source": [
    "a = int(input(\"ange början på talkedjan\"))\n",
    "n = int(input(\"ange hur många nummer som är i talkedjan\"))\n",
    "a1 = int(input(\"ange slutet på talkedjan\"))\n",
    "\n",
    "\n",
    "\n",
    "def aritmetisk_summa(a,n,a1):\n",
    "       return (n*(a + a1))/2\n",
    "\n",
    "print(aritmetisk_summa(a,n,a1))"
   ]
  },
  {
   "source": [
    "# uppgift 2"
   ],
   "cell_type": "markdown",
   "metadata": {}
  },
  {
   "cell_type": "code",
   "execution_count": 3,
   "metadata": {},
   "outputs": [
    {
     "output_type": "stream",
     "name": "stdout",
     "text": [
      "1 3 5 7 9 11 "
     ]
    },
    {
     "output_type": "execute_result",
     "data": {
      "text/plain": [
       "36"
      ]
     },
     "metadata": {},
     "execution_count": 3
    }
   ],
   "source": [
    "#jag kan inte få denna att funka \n",
    "n = int(input(\"Ange ett värde på n\"))\n",
    "\n",
    "startvärde = 0\n",
    "\n",
    "def aritmetisk_talföljd(n):\n",
    "    s = 0\n",
    "    for i in range(1,2*n+1+1,2):\n",
    "        s += i\n",
    "        print(f\"{i}\", end=\" \")\n",
    "    return s\n",
    "\n",
    "\n",
    "aritmetisk_talföljd(n)"
   ]
  },
  {
   "source": [
    "# uppgift 3"
   ],
   "cell_type": "markdown",
   "metadata": {}
  },
  {
   "cell_type": "code",
   "execution_count": 14,
   "metadata": {},
   "outputs": [
    {
     "output_type": "stream",
     "name": "stdout",
     "text": [
      "4.242640687119285\n"
     ]
    }
   ],
   "source": [
    "import numpy as np\n",
    "\n",
    "x1 = int(input(\"ange ett x värde\"))\n",
    "x2= int(input(\"ange ett andra x värde\"))\n",
    "\n",
    "y1 = int(input(\"ange ett y värde\"))\n",
    "y2 = int(input(\"ange ett andra y värde\"))\n",
    "\n",
    "def längd(xsida,ysida):\n",
    "    xsida = x1-x2\n",
    "    ysida = y1-y2\n",
    "    area = np.sqrt(xsida**2 + ysida**2)\n",
    "    return area\n",
    "\n",
    "print(längd(xsida,ysida))\n",
    "\n"
   ]
  },
  {
   "source": [
    "# uppgift 4\n"
   ],
   "cell_type": "markdown",
   "metadata": {}
  },
  {
   "cell_type": "code",
   "execution_count": null,
   "metadata": {},
   "outputs": [],
   "source": []
  }
 ]
}