{
 "metadata": {
  "language_info": {
   "codemirror_mode": {
    "name": "ipython",
    "version": 3
   },
   "file_extension": ".py",
   "mimetype": "text/x-python",
   "name": "python",
   "nbconvert_exporter": "python",
   "pygments_lexer": "ipython3",
   "version": "3.8.3-final"
  },
  "orig_nbformat": 2,
  "kernelspec": {
   "name": "python3",
   "display_name": "Python 3"
  }
 },
 "nbformat": 4,
 "nbformat_minor": 2,
 "cells": [
  {
   "source": [
    "## Strängar i Python\n"
   ],
   "cell_type": "markdown",
   "metadata": {}
  },
  {
   "cell_type": "code",
   "execution_count": 6,
   "metadata": {},
   "outputs": [
    {
     "output_type": "stream",
     "name": "stdout",
     "text": [
      "Namn:Felix Samuelsson\nÅlder:17\nTelefon: 992\n"
     ]
    }
   ],
   "source": [
    "förnamn = \"Felix\"\n",
    "efternamn= \"Samuelsson\"\n",
    "\n",
    "#konkatenering\n",
    "namn = förnamn +\" \" + efternamn\n",
    "ålder = \"17\"\n",
    "adress = \" sörgårdsvägen 38\"\n",
    "telefon = 992\n",
    "\n",
    "personuppg = \"Namn:\" + namn + \"\\n\" + \"Ålder:\" + ålder + \"\\n\" + \"Telefon: \" + str(telefon)\n",
    "\n",
    "print(personuppg)"
   ]
  },
  {
   "source": [
    "# Indexering"
   ],
   "cell_type": "markdown",
   "metadata": {}
  },
  {
   "cell_type": "code",
   "execution_count": 10,
   "metadata": {},
   "outputs": [
    {
     "output_type": "stream",
     "name": "stdout",
     "text": [
      "Alfabetet innehåller 29 bokstäver\nBokstav på index 0: a\nBokstav på index -2: ä\nBokstav på index 6: g\nAlfabetet baklänges öäåzyxwvutsrqponmlkjihgfedcba\n"
     ]
    }
   ],
   "source": [
    "#code along \n",
    "alfabetet = \"abcdefghijklmnopqrstuvwxyzåäö\"\n",
    "\n",
    "#len{} funktion - ger längden på en lista \n",
    "print(f\"Alfabetet innehåller {len(alfabetet)} bokstäver\")\n",
    "\n",
    "#indextera\n",
    "print(f\"Bokstav på index 0: {alfabetet[0]}\")\n",
    "print(f\"Bokstav på index -2: {alfabetet[-2]}\")\n",
    "print(f\"Bokstav på index 6: {alfabetet[6]}\")\n",
    "print(f\"Alfabetet baklänges {alfabetet[::-1]}\")"
   ]
  },
  {
   "cell_type": "code",
   "execution_count": 17,
   "metadata": {},
   "outputs": [
    {
     "output_type": "stream",
     "name": "stdout",
     "text": [
      "['Mattematik', 'prohrammering', 'teknink', 'webbutveckling', 'fysik']\n['lasange', 'korv', 'grönsaker', 'kebab', 'ris ']\njag älskar att äta lasange\njag älskar att äta korv\njag älskar att äta grönsaker\njag älskar att äta kebab\njag älskar att äta ris \n"
     ]
    }
   ],
   "source": [
    "#code along\n",
    "favoritämnen = \"Mattematik prohrammering teknink webbutveckling fysik\"\n",
    "favoritmat = \"lasange, korv, grönsaker, kebab, ris \"\n",
    "\n",
    "#split() separerar en stärng\n",
    "favoritämnen = favoritämnen.split()\n",
    "favoritmat = favoritmat.split(\", \")\n",
    "\n",
    "print(favoritämnen)\n",
    "print(favoritmat)\n",
    "\n",
    "for mat in favoritmat:\n",
    "    print(f\"jag älskar att äta {mat}\")"
   ]
  },
  {
   "cell_type": "code",
   "execution_count": 25,
   "metadata": {},
   "outputs": [
    {
     "output_type": "stream",
     "name": "stdout",
     "text": [
      "15\n"
     ]
    }
   ],
   "source": [
    "#uppgift 2\n",
    "\n",
    "mening = \"En bild säger mer än tusen ord, en matematisk formel säger mer än tusen bilder\"\n",
    "\n",
    "orden = 0\n",
    "\n",
    "mening = mening.split()\n",
    "\n",
    "for word in mening: \n",
    "    orden += 1\n",
    "     \n",
    "\n",
    "print(orden)\n"
   ]
  },
  {
   "cell_type": "code",
   "execution_count": 22,
   "metadata": {},
   "outputs": [
    {
     "output_type": "stream",
     "name": "stdout",
     "text": [
      "pappa Är inte en palindrom\n"
     ]
    }
   ],
   "source": [
    "#uppgift 3A\n",
    "\n",
    "palindrom = input(\"Ange ett ord som kan vara eller inte vara en palindrom\")\n",
    "\n",
    "if palindrom[::-1] == palindrom:\n",
    "    print(f\"{palindrom} är en palindrom\")\n",
    "else:\n",
    "    print(f\"{palindrom} Är inte en palindrom\")\n"
   ]
  },
  {
   "cell_type": "code",
   "execution_count": 30,
   "metadata": {},
   "outputs": [
    {
     "output_type": "stream",
     "name": "stdout",
     "text": [
      "nitalarbralatin är en palindrom\n"
     ]
    }
   ],
   "source": [
    "#uppgift 3B\n",
    "\n",
    "palindrom = input(\"Ange ett ord som kan vara eller inte vara en palindrom\")\n",
    "\n",
    "palindrom = palindrom.replace(\" \", \"\")\n",
    "palindrom = palindrom.replace(\"-\", \"\")\n",
    "\n",
    "if palindrom[::-1] == palindrom:\n",
    "    print(f\"{palindrom} är en palindrom\")\n",
    "else:\n",
    "    print(f\"{palindrom} Är inte en palindrom\")\n"
   ]
  },
  {
   "cell_type": "code",
   "execution_count": 28,
   "metadata": {},
   "outputs": [
    {
     "output_type": "stream",
     "name": "stdout",
     "text": [
      "Number of vowels are: 36\n"
     ]
    }
   ],
   "source": [
    "#uppgift 4 \n",
    "\n",
    "mening = \"Do not worry about your difficulties in Mathematics. I can assure you mine are still greater.\"\n",
    "\n",
    "vokaler = 0\n",
    "#jag använder bara i istället för en beskrivande variabel för den var enklare att skriva\n",
    "for i in mening:\n",
    "      if(i=='a' or i=='e' or i=='i' or i=='o' or i=='u' or i == 'y' or i=='A' or i=='E' or i=='I' or i=='O' or i=='U' or i=='Y'):\n",
    "            vokaler += 1\n",
    "print(f\"Number of vowels are: {vokaler}\")\n"
   ]
  },
  {
   "cell_type": "code",
   "execution_count": null,
   "metadata": {},
   "outputs": [],
   "source": []
  }
 ]
}